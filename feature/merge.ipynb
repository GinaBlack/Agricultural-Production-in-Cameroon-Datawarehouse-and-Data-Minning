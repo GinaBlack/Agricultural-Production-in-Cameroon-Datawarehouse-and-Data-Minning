{
 "cells": [
  {
   "cell_type": "code",
   "execution_count": 13,
   "id": "ef1819e1-4553-42b7-92d9-f42b018a6d5e",
   "metadata": {},
   "outputs": [
    {
     "name": "stdout",
     "output_type": "stream",
     "text": [
      "Loaded Annual_Rainfall.csv\n",
      "Loaded Avg_Annual_Production.csv\n",
      "Loaded Avg_Temperature.csv\n",
      "Loaded Moisture_Index.csv\n",
      "Loaded Production_Variability.csv\n",
      "Saved merged data with IDs to './output\\merged_data.csv'\n"
     ]
    }
   ],
   "source": [
    "import os\n",
    "import pandas as pd\n",
    "\n",
    "# Directory containing the CSV files\n",
    "output_dir = \"./output\"\n",
    "\n",
    "# List all the CSV files in the output directory\n",
    "csv_files = [f for f in os.listdir(output_dir) if f.endswith('.csv')]\n",
    "\n",
    "# Initialize an empty list to store dataframes\n",
    "dataframes = []\n",
    "\n",
    "# Loop through each CSV file and load it into a dataframe\n",
    "for csv_file in csv_files:\n",
    "    try:\n",
    "        file_path = os.path.join(output_dir, csv_file)\n",
    "        df = pd.read_csv(file_path)\n",
    "        \n",
    "        # Add the dataframe to the list\n",
    "        dataframes.append(df)\n",
    "        print(f\"Loaded {csv_file}\")\n",
    "    except Exception as e:\n",
    "        print(f\"Error loading {csv_file}: {e}\")\n",
    "\n",
    "# Merge all dataframes on 'Region_Name'\n",
    "if dataframes:\n",
    "    merged_df = dataframes[0]  # Start with the first dataframe\n",
    "    for df in dataframes[1:]:\n",
    "        merged_df = pd.merge(merged_df, df, on=\"Region_Name\", how=\"outer\")  # Merge using 'Region_Name'\n",
    "    \n",
    "    # Assign a unique ID to each 'Region_Name'\n",
    "    merged_df['Region_ID'] = pd.factorize(merged_df['Region_Name'])[0] + 1  # Start IDs from 1\n",
    "\n",
    "    # Save the merged dataframe with Region_ID to a new CSV file\n",
    "    merged_output_file = os.path.join(output_dir, \"merged_data.csv\")\n",
    "    merged_df.to_csv(merged_output_file, index=False)\n",
    "    print(f\"Saved merged data with IDs to '{merged_output_file}'\")\n",
    "else:\n",
    "    print(\"No dataframes to merge.\")\n"
   ]
  },
  {
   "cell_type": "code",
   "execution_count": null,
   "id": "f980499a-ec1d-4754-860c-9023fb331ded",
   "metadata": {},
   "outputs": [],
   "source": []
  },
  {
   "cell_type": "code",
   "execution_count": null,
   "id": "868d0574-8f10-4e5f-b91c-e9f64a1a7606",
   "metadata": {},
   "outputs": [],
   "source": []
  },
  {
   "cell_type": "code",
   "execution_count": null,
   "id": "db85e263-3bb8-4104-a8cc-c61617319b81",
   "metadata": {},
   "outputs": [],
   "source": []
  }
 ],
 "metadata": {
  "kernelspec": {
   "display_name": "Python 3 (ipykernel)",
   "language": "python",
   "name": "python3"
  },
  "language_info": {
   "codemirror_mode": {
    "name": "ipython",
    "version": 3
   },
   "file_extension": ".py",
   "mimetype": "text/x-python",
   "name": "python",
   "nbconvert_exporter": "python",
   "pygments_lexer": "ipython3",
   "version": "3.12.7"
  }
 },
 "nbformat": 4,
 "nbformat_minor": 5
}
