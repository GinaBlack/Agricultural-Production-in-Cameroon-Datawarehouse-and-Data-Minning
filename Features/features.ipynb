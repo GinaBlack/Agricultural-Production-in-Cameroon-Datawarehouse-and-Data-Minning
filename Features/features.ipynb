{
 "cells": [
  {
   "cell_type": "code",
   "execution_count": 9,
   "id": "a599cde3-d69c-4a25-a1ec-0c71d4c83817",
   "metadata": {},
   "outputs": [
    {
     "name": "stderr",
     "output_type": "stream",
     "text": [
      "C:\\Users\\huawei\\AppData\\Local\\Temp\\ipykernel_13372\\930035495.py:77: UserWarning: pandas only supports SQLAlchemy connectable (engine/connection) or database string URI or sqlite3 DBAPI2 connection. Other DBAPI2 objects are not tested. Please consider using SQLAlchemy.\n",
      "  df = pd.read_sql_query(query, conn)\n"
     ]
    },
    {
     "name": "stdout",
     "output_type": "stream",
     "text": [
      "Saved Avg_Annual_Production to './output\\Avg_Annual_Production.csv'\n",
      "Saved Production_Variability to './output\\Production_Variability.csv'\n",
      "Saved Avg_Temperature to './output\\Avg_Temperature.csv'\n",
      "Saved Annual_Rainfall to './output\\Annual_Rainfall.csv'\n",
      "Saved Moisture_Index to './output\\Moisture_Index.csv'\n"
     ]
    }
   ],
   "source": [
    "import os\n",
    "import pandas as pd\n",
    "import mysql.connector\n",
    "\n",
    "# Database connection details\n",
    "DB_CONFIG = {\n",
    "    \"host\": \"localhost\",\n",
    "    \"user\": \"root\",\n",
    "    \"password\": \"uct04bgs101120\",\n",
    "    \"database\": \"agric_cameroon\"\n",
    "}\n",
    "\n",
    "# Ensure output directory exists\n",
    "output_dir = \"./output\"\n",
    "os.makedirs(output_dir, exist_ok=True)\n",
    "\n",
    "# Establish a connection to the database\n",
    "conn = mysql.connector.connect(**DB_CONFIG)\n",
    "\n",
    "# Queries for the features (Drought_Index query removed)\n",
    "queries = {\n",
    "    \"Avg_Annual_Production\": \"\"\"\n",
    "    SELECT subquery.Region_Name, \n",
    "           subquery.Year,\n",
    "           SUM(subquery.Avg_Annual_Production) AS Total_Annual_Production\n",
    "    FROM (\n",
    "        SELECT region_dim.Region_Name, \n",
    "               time_dim.Year,\n",
    "               AVG(production_fact.Quantity) AS Avg_Annual_Production\n",
    "        FROM production_fact\n",
    "        JOIN time_dim ON production_fact.Time_ID = time_dim.Time_ID\n",
    "        JOIN region_dim ON production_fact.Region_ID = region_dim.Region_ID\n",
    "        WHERE time_dim.Year BETWEEN 2019 AND 2024\n",
    "        GROUP BY region_dim.Region_Name, time_dim.Year\n",
    "    ) AS subquery\n",
    "    GROUP BY subquery.Region_Name, subquery.Year;\n",
    "    \"\"\",\n",
    "\n",
    "    \"Production_Variability\": \"\"\"\n",
    "        SELECT region_dim.Region_Name, \n",
    "               STDDEV(production_fact.Quantity) AS Production_Variability\n",
    "        FROM production_fact\n",
    "        JOIN time_dim ON production_fact.Time_ID = time_dim.Time_ID\n",
    "        JOIN region_dim ON production_fact.Region_ID = region_dim.Region_ID\n",
    "        WHERE time_dim.Year BETWEEN 2019 AND 2024\n",
    "        GROUP BY region_dim.Region_Name;\n",
    "    \"\"\",\n",
    "\n",
    "    \"Avg_Temperature\": \"\"\"\n",
    "        SELECT region_dim.Region_Name, \n",
    "               AVG(climate_dim.Avg_Temperature) AS Avg_Temperature\n",
    "        FROM region_dim\n",
    "        JOIN climate_dim ON region_dim.Climate_ID = climate_dim.Climate_ID\n",
    "        GROUP BY region_dim.Region_Name;\n",
    "    \"\"\",\n",
    "\n",
    "    \"Annual_Rainfall\": \"\"\"\n",
    "        SELECT region_dim.Region_Name, \n",
    "               AVG(climate_dim.Annual_Rainfall) AS Annual_Rainfall\n",
    "        FROM region_dim\n",
    "        JOIN climate_dim ON region_dim.Climate_ID = climate_dim.Climate_ID\n",
    "        GROUP BY region_dim.Region_Name;\n",
    "    \"\"\",\n",
    "\n",
    "    \"Moisture_Index\": \"\"\"\n",
    "        SELECT region_dim.Region_Name, \n",
    "               AVG(climate_dim.Annual_Rainfall - (climate_dim.Avg_Temperature * 10)) AS Moisture_Index\n",
    "        FROM region_dim\n",
    "        JOIN climate_dim ON region_dim.Climate_ID = climate_dim.Climate_ID\n",
    "        GROUP BY region_dim.Region_Name;\n",
    "    \"\"\"\n",
    "}\n",
    "\n",
    "# Execute each query and save results to individual CSV files\n",
    "for feature, query in queries.items():\n",
    "    try:\n",
    "        df = pd.read_sql_query(query, conn)\n",
    "        output_file = os.path.join(output_dir, f\"{feature}.csv\")\n",
    "        df.to_csv(output_file, index=False)\n",
    "        print(f\"Saved {feature} to '{output_file}'\")\n",
    "    except Exception as e:\n",
    "        print(f\"Error executing query for {feature}: {e}\")\n",
    "\n",
    "# Close the database connection\n",
    "conn.close()"
   ]
  },
  {
   "cell_type": "code",
   "execution_count": null,
   "id": "3c68bead-4fc4-4ba8-8457-14232dc46dae",
   "metadata": {},
   "outputs": [],
   "source": []
  },
  {
   "cell_type": "code",
   "execution_count": null,
   "id": "4a16ad9f-83e5-474a-87e8-4d8549414472",
   "metadata": {},
   "outputs": [],
   "source": []
  }
 ],
 "metadata": {
  "kernelspec": {
   "display_name": "Python 3 (ipykernel)",
   "language": "python",
   "name": "python3"
  },
  "language_info": {
   "codemirror_mode": {
    "name": "ipython",
    "version": 3
   },
   "file_extension": ".py",
   "mimetype": "text/x-python",
   "name": "python",
   "nbconvert_exporter": "python",
   "pygments_lexer": "ipython3",
   "version": "3.12.7"
  }
 },
 "nbformat": 4,
 "nbformat_minor": 5
}
